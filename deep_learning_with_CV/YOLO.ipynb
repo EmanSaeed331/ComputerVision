{
 "cells": [
  {
   "cell_type": "code",
   "execution_count": 16,
   "metadata": {},
   "outputs": [],
   "source": [
    "import os\n",
    "import time\n",
    "import cv2\n",
    "import numpy as np\n",
    "\n",
    "from model.yolo_model import YOLO\n"
   ]
  },
  {
   "cell_type": "code",
   "execution_count": 17,
   "metadata": {},
   "outputs": [],
   "source": [
    "def process_image(img):\n",
    "    image = cv2.resize(img,(416,416),\n",
    "                      interpolation=cv2.INTER_CUBIC)\n",
    "    image = np.array(image,dtype='float32')\n",
    "    image /=255.\n",
    "    image = np.expand_dims(image,axis=0)\n",
    "    return image"
   ]
  },
  {
   "cell_type": "code",
   "execution_count": 18,
   "metadata": {},
   "outputs": [],
   "source": [
    "def get_classes(file):\n",
    "    with open(file) as f:\n",
    "        class_names = f.readlines()\n",
    "    class_names = [c.strips() for c in class_name]\n",
    "    return class_names"
   ]
  },
  {
   "cell_type": "code",
   "execution_count": 19,
   "metadata": {},
   "outputs": [],
   "source": [
    "def draw(image,boxes,scores,classes,all_classes):\n",
    "    for box,score,c1 in zip (boxes,scores,classes):\n",
    "        x,y,w,h=box\n",
    "        top = max(0,np.floor(x+0.5).astype(int))\n",
    "        left = max(0,np.floor(y+0.5).astype(int))\n",
    "        right = min(image.shape[1],np.floor(x+w+0.5).astype(int))\n",
    "        right = min(image.shape[0],np.floor(y+h+0.5).astype(int))\n",
    "        \n",
    "        cv2.rectangle(image,(top,left),(right,bottom),(255,0,0),2)\n",
    "        cv2.putText(image,'{0}{1:.2f}'.format(all_classes[c1],score),\n",
    "                   (top,left-6),\n",
    "                   cv2.FONT_HERSHEY_SIMPLEX,\n",
    "                   0.6,(0,0,255),1,\n",
    "                   cv2.LINE_AA)\n",
    "        print('class:{0},score:{1:.2f}'.format(all_classes[c1],score))\n",
    "        print('box coordinate x,y,w,h :{0}'.format(box))\n",
    "    print()"
   ]
  },
  {
   "cell_type": "code",
   "execution_count": 20,
   "metadata": {},
   "outputs": [],
   "source": [
    "def detect_image(image,yolo,all_classes):\n",
    "    pimage = process_image(image)\n",
    "    start = time.time()\n",
    "    boxes,classes,scores = yolo.predict(pimage,image.shpae)\n",
    "    end = time.time\n",
    "    print('time:{0:2f}s'.format(end-start))\n",
    "    \n",
    "    if boxes is not None:\n",
    "        draw(image,boxes,score,classes,all_classes)\n",
    "        \n",
    "        return image"
   ]
  },
  {
   "cell_type": "code",
   "execution_count": 26,
   "metadata": {},
   "outputs": [],
   "source": [
    "def detect_video(video,yolo,all_classes):\n",
    "    video_path = os.path.join(\"videos\",\"test\",video)\n",
    "    camera = cv2.VideoCapture(video_path)\n",
    "    cv2.namedWindos(\"detection\",cv2.WINDOW_AUTOSIZE)\n",
    "    \n",
    "    sz = (int(camera.get(CAP_PROP_FRAME_WIDTH)),\n",
    "         int(camera.get(cv2.CAP_PROP_FRAME_HEIGHT)))\n",
    "    fourcc = cv2.VIDEOWRITER_fourcc(*'mpeg')\n",
    "    vout = cv2.VideoWriter()\n",
    "    vout.open(os.path.join(\"videos\",\"res\",video),fourcc,20,sz,True)\n",
    "    while True:\n",
    "        res,frame=camera.read()\n",
    "        if not res:\n",
    "            break\n",
    "        image = detect_image(frame,yolo,all_classes)\n",
    "        cv2.imshow(\"detection\",image)\n",
    "        vout.write(image)\n",
    "        \n",
    "        if cv2.waitKey(110)&0xff==27:\n",
    "            break\n",
    "    vout.release()\n",
    "    camera.release()"
   ]
  },
  {
   "cell_type": "code",
   "execution_count": null,
   "metadata": {},
   "outputs": [],
   "source": []
  },
  {
   "cell_type": "code",
   "execution_count": null,
   "metadata": {},
   "outputs": [],
   "source": []
  }
 ],
 "metadata": {
  "kernelspec": {
   "display_name": "Python 3",
   "language": "python",
   "name": "python3"
  },
  "language_info": {
   "codemirror_mode": {
    "name": "ipython",
    "version": 3
   },
   "file_extension": ".py",
   "mimetype": "text/x-python",
   "name": "python",
   "nbconvert_exporter": "python",
   "pygments_lexer": "ipython3",
   "version": "3.8.5"
  }
 },
 "nbformat": 4,
 "nbformat_minor": 4
}
