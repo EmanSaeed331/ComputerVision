{
 "cells": [
  {
   "cell_type": "code",
   "execution_count": 20,
   "metadata": {},
   "outputs": [],
   "source": [
    "import cv2\n",
    "#Connect to camera\n",
    "#all frames are a single image.\n",
    "\n",
    "cap    = cv2.VideoCapture(0) # 0 to connect to default webcame.\n",
    "width  = int(cap.get(cv2.CAP_PROP_FRAME_WIDTH)) #it return a floating point number.\n",
    "height = int(cap.get(cv2.CAP_PROP_FRAME_HEIGHT))\n",
    "\n",
    "\"\"\"\n",
    " writer object to save a video in you computer, it has multiple parametrs:\n",
    "     1- videoName.\n",
    "     2- the actual video codec that you're going to be using write this mp4 file.\n",
    "     3- number of captures frames per seconds.\n",
    "\"\"\"\n",
    "\n",
    "writer = cv2.VideoWriter('mysupervideo.mp4',\n",
    "                         cv2.VideoWriter_fourcc(*'XVID'),\n",
    "                         20,\n",
    "                         (width,height))\n",
    "while True:\n",
    "    ret,frame = cap.read()\n",
    "    #OPERATIONS (DRAWING) --> object detection and object tracking.\n",
    "    writer.write(frame)\n",
    "    \n",
    "    \n",
    "    #gray = cv2.cvtColor(frame,cv2.COLOR_BGR2GRAY)\n",
    "    cv2.imshow('frame',frame)\n",
    "    \n",
    "    if cv2.waitKey(1) & 0xFF == ord('q'):\n",
    "        break\n",
    "cap.release()\n",
    "writer.release()\n",
    "cv2.destroyAllWindows()"
   ]
  },
  {
   "cell_type": "code",
   "execution_count": null,
   "metadata": {},
   "outputs": [],
   "source": []
  },
  {
   "cell_type": "code",
   "execution_count": 18,
   "metadata": {},
   "outputs": [
    {
     "data": {
      "text/plain": [
       "'/home/eman-saeed/Documents/graduation project /Computer-Vision-Course/video-Basics-with-python'"
      ]
     },
     "execution_count": 18,
     "metadata": {},
     "output_type": "execute_result"
    }
   ],
   "source": [
    "pwd"
   ]
  },
  {
   "cell_type": "code",
   "execution_count": null,
   "metadata": {},
   "outputs": [],
   "source": []
  },
  {
   "cell_type": "code",
   "execution_count": null,
   "metadata": {},
   "outputs": [],
   "source": []
  },
  {
   "cell_type": "code",
   "execution_count": null,
   "metadata": {},
   "outputs": [],
   "source": []
  }
 ],
 "metadata": {
  "kernelspec": {
   "display_name": "Python 3",
   "language": "python",
   "name": "python3"
  },
  "language_info": {
   "codemirror_mode": {
    "name": "ipython",
    "version": 3
   },
   "file_extension": ".py",
   "mimetype": "text/x-python",
   "name": "python",
   "nbconvert_exporter": "python",
   "pygments_lexer": "ipython3",
   "version": "3.7.6"
  }
 },
 "nbformat": 4,
 "nbformat_minor": 4
}
