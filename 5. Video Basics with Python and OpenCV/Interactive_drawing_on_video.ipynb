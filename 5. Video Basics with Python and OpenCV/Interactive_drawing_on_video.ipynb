{
 "cells": [
  {
   "cell_type": "code",
   "execution_count": 8,
   "metadata": {},
   "outputs": [],
   "source": [
    "import cv2\n",
    "\n",
    "##CALLBACK FUNCTION RECTANGLE\n",
    "def draw_rectangle(event,x,y,flag,param):\n",
    "    global pt1,pt2,topleft_clicked,botRight_clicked\n",
    "        \n",
    "    if event == cv2.EVENT_LBUTTONDOWN:\n",
    "        #RESET THE RECTANGLE (IT CKECKS IF THE RECT THERE)\n",
    "        if topleft_clicked == True and botRight_clicked == True:\n",
    "            pt1 = (0,0) \n",
    "            pt2 = (0,0) \n",
    "            topleft_clicked  = False \n",
    "            botRight_clicked = False\n",
    "        if topleft_clicked == False:\n",
    "            pt1 = (x,y)\n",
    "            topleft_clicked = True\n",
    "                \n",
    "        elif botRight_clicked == False : \n",
    "            pt2 = (x,y)\n",
    "            botRight_clicked = True\n",
    "#GLOBAL VARIABLE\n",
    "pt1 = (0,0) #Top Left .\n",
    "pt2 = (0,0) #Bottom Right.\n",
    "topleft_clicked  = False \n",
    "botRight_clicked = False\n",
    "#CONNECT TO THE CALLBACK\n",
    "cap = cv2.VideoCapture(0) # using USB Camera.\n",
    "cv2.namedWindow('Test')\n",
    "cv2.setMouseCallback('Test',draw_rectangle)\n",
    "\n",
    "\n",
    "while True:\n",
    "    ret ,frame = cap.read()\n",
    "    \n",
    "    #DRAWING ON THE FRAME OF THE GLOBAL VARIABLES .\n",
    "    if topleft_clicked :\n",
    "        cv2.circle(frame,center=pt1,radius = 5,color =(10,20,14),thickness=-1)\n",
    "    if topleft_clicked and botRight_clicked:\n",
    "        cv2.rectangle(frame,pt1,pt2,(30,100,225),3)\n",
    "        \n",
    "    cv2.imshow('Test',frame)\n",
    "    \n",
    "    if cv2.waitKey(1) & 0xFF == ord('q'):\n",
    "        break\n",
    "\n",
    "cap.release()\n",
    "cv2.destroyAllWindows()"
   ]
  },
  {
   "cell_type": "code",
   "execution_count": null,
   "metadata": {},
   "outputs": [],
   "source": []
  }
 ],
 "metadata": {
  "kernelspec": {
   "display_name": "Python 3",
   "language": "python",
   "name": "python3"
  },
  "language_info": {
   "codemirror_mode": {
    "name": "ipython",
    "version": 3
   },
   "file_extension": ".py",
   "mimetype": "text/x-python",
   "name": "python",
   "nbconvert_exporter": "python",
   "pygments_lexer": "ipython3",
   "version": "3.7.6"
  }
 },
 "nbformat": 4,
 "nbformat_minor": 4
}
